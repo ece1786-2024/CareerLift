{
 "cells": [
  {
   "metadata": {
    "ExecuteTime": {
     "end_time": "2024-11-16T08:16:00.186204Z",
     "start_time": "2024-11-16T08:15:59.840069Z"
    }
   },
   "cell_type": "code",
   "source": [
    "# Read Json File\n",
    "import json\n",
    "from openai import OpenAI\n",
    "\n",
    "with open('processed_job_descriptions.json', \"r\") as file:\n",
    "    processed_job_descriptions = json.load(file)\n",
    "\n",
    "with open('processed_original_resumes.json', \"r\") as file:\n",
    "    processed_original_resumes = json.load(file)\n",
    "    \n",
    "with open('system_prompt', \"r\", encoding=\"utf-8\") as file:\n",
    "    system_prompt = file.read()"
   ],
   "id": "5f39b76eff6f86b1",
   "outputs": [],
   "execution_count": 1
  },
  {
   "metadata": {
    "ExecuteTime": {
     "end_time": "2024-11-16T08:16:01.121785Z",
     "start_time": "2024-11-16T08:16:01.107766Z"
    }
   },
   "cell_type": "code",
   "source": [
    "# User Prompt\n",
    "user_prompt = f\"\"\"I am a highly experienced career advisor and resume writing expert with 15 years of specialized experience.\n",
    "\n",
    "    Primary role: Craft exceptional resumes and cover letters tailored to specific job descriptions, optimized for both ATS systems and human readers.\n",
    "    \n",
    "    # Instructions for creating optimized resumes and cover letters\n",
    "    1. Analyze job descriptions:\n",
    "       - Extract key requirements and keywords\n",
    "       - Note: Adapt analysis based on specific industry and role\n",
    "    \n",
    "    2. Create compelling resumes:\n",
    "       - Highlight quantifiable achievements (e.g., \"Engineered a dynamic UI form generator using optimal design patterns and efficient OOP, reducing development time by 87.5%\")\n",
    "       - Tailor content to specific job and company\n",
    "       - Emphasize candidate's unique value proposition\n",
    "    \n",
    "    3. Craft persuasive cover letters:\n",
    "       - Align content with targeted positions\n",
    "       - Balance professional tone with candidate's personality\n",
    "       - Use a strong opening statement, e.g., \"As a marketing professional with 7 years of experience in digital strategy, I am excited to apply for...\"\n",
    "       - Identify and emphasize soft skills valued in the target role/industry. Provide specific examples demonstrating these skills\n",
    "    \n",
    "    4. Optimize for Applicant Tracking Systems (ATS):\n",
    "       - Use industry-specific keywords strategically throughout documents\n",
    "       - Ensure content passes ATS scans while engaging human readers\n",
    "    \n",
    "    5. Provide industry-specific guidance:\n",
    "       - Incorporate current hiring trends\n",
    "       - Prioritize relevant information (apply \"6-second rule\" for quick scanning)\n",
    "       - Use clear, consistent formatting\n",
    "    \n",
    "    6. Apply best practices:\n",
    "       - Quantify achievements where possible\n",
    "       - Use specific, impactful statements instead of generic ones\n",
    "       - Update content based on latest industry standards\n",
    "       - Use active voice and strong action verbs\n",
    "    \n",
    "    Note: Adapt these guidelines to each user's specific request, industry, and experience level.\n",
    "    \n",
    "    Goal: Create documents that not only pass ATS screenings but also compellingly demonstrate how the user can add immediate value to the prospective employer.\n",
    "    \n",
    "    Return your output strictly in the following JSON format:\n",
    "    {{\n",
    "        \"Revised Resumes\": [\n",
    "            {{\n",
    "                \"ResumeIndex\": 0,\n",
    "                \"ResumeJSON\": {{\n",
    "                    \"Education\": [\n",
    "                        {{\n",
    "                            \"Degree\": \"\",\n",
    "                            \"Institution\": \"\",\n",
    "                            \"CGPA\": \"\"\n",
    "                        }}\n",
    "                    ],\n",
    "                    \"Experience\": [\n",
    "                        {{\n",
    "                            \"Role\": \"\",\n",
    "                            \"Company\": \"\",\n",
    "                            \"Description\": \"\"\n",
    "                        }}\n",
    "                    ],\n",
    "                    \"Skills\": [\n",
    "                        \"\"\n",
    "                    ],\n",
    "                    \"Projects\": [\n",
    "                        {{\n",
    "                            \"Project\": \"\",\n",
    "                            \"Describe\": \"\"\n",
    "                        }}\n",
    "                    ]\n",
    "                }}\n",
    "            }}\n",
    "        ],\n",
    "        \"Career Development Advise\": [\n",
    "            {{\n",
    "                \"Skill\": \"\",\n",
    "                \"Advice\": [\n",
    "                    \"\"\n",
    "                ]\n",
    "            }}\n",
    "        ]\n",
    "    }}\n",
    "    \n",
    "    Given the following inputs:\n",
    "\n",
    "    Original Resume:\n",
    "    {json.dumps(processed_original_resumes, indent=2)}\n",
    "\n",
    "    Job Description:\n",
    "    {json.dumps(processed_original_resumes, indent=2)}\n",
    "\"\"\""
   ],
   "id": "3da906e19e14f901",
   "outputs": [],
   "execution_count": 2
  },
  {
   "cell_type": "code",
   "id": "initial_id",
   "metadata": {
    "collapsed": true,
    "ExecuteTime": {
     "end_time": "2024-11-16T08:16:08.905860Z",
     "start_time": "2024-11-16T08:16:03.670077Z"
    }
   },
   "source": [
    "# RUN\n",
    "client = OpenAI()\n",
    "\n",
    "def test_llm_1(system_content, user_content):\n",
    "    response = client.chat.completions.create(\n",
    "        model=\"gpt-4o\",\n",
    "        messages=[\n",
    "            {\"role\": \"system\", \"content\": system_content},\n",
    "            {\"role\": \"user\", \"content\": user_content}\n",
    "        ]\n",
    "    )\n",
    "\n",
    "    return response.choices[0].message.content\n",
    "\n",
    "optimized_output = test_llm_1(system_prompt, user_prompt)"
   ],
   "outputs": [],
   "execution_count": 3
  },
  {
   "metadata": {
    "ExecuteTime": {
     "end_time": "2024-11-16T08:16:10.184653Z",
     "start_time": "2024-11-16T08:16:10.167640Z"
    }
   },
   "cell_type": "code",
   "source": [
    "# Save\n",
    "output = optimized_output.strip(\"```json\").strip(\"```\").strip()\n",
    "\n",
    "try:\n",
    "    optimized_data = json.loads(output)\n",
    "except json.JSONDecodeError:\n",
    "    print(\"Error: The API response is not valid JSON.\")\n",
    "    print(\"Raw Output:\", output)\n",
    "    optimized_data = None\n",
    "\n",
    "if optimized_data:\n",
    "    with open(\"revised_resumes.json\", \"w\") as f:\n",
    "        json.dump(optimized_data[\"Revised Resumes\"], f, indent=4)\n",
    "\n",
    "    with open(\"career_development_advise.json\", \"w\") as f:\n",
    "        json.dump(optimized_data[\"Career Development Advise\"], f, indent=4)\n",
    "\n",
    "    print(\"Files 'revised_resumes.json' and 'career_development_advise.json' have been saved successfully!\")\n",
    "else:\n",
    "    print(\"No valid data to save.\")"
   ],
   "id": "52f33ea6683f901f",
   "outputs": [
    {
     "name": "stdout",
     "output_type": "stream",
     "text": [
      "Files 'revised_resumes.json' and 'career_development_advise.json' have been saved successfully!\n"
     ]
    }
   ],
   "execution_count": 4
  }
 ],
 "metadata": {
  "kernelspec": {
   "display_name": "Python 3",
   "language": "python",
   "name": "python3"
  },
  "language_info": {
   "codemirror_mode": {
    "name": "ipython",
    "version": 2
   },
   "file_extension": ".py",
   "mimetype": "text/x-python",
   "name": "python",
   "nbconvert_exporter": "python",
   "pygments_lexer": "ipython2",
   "version": "2.7.6"
  }
 },
 "nbformat": 4,
 "nbformat_minor": 5
}
